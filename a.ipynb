{
 "cells": [
  {
   "cell_type": "code",
   "execution_count": 1,
   "metadata": {},
   "outputs": [],
   "source": [
    "import numpy as np\n"
   ]
  },
  {
   "cell_type": "code",
   "execution_count": 2,
   "metadata": {},
   "outputs": [
    {
     "name": "stdout",
     "output_type": "stream",
     "text": [
      "回帰係数: [[3.37588749]]\n",
      "切片: [-0.39920621]\n",
      "決定係数 R^2: 0.5122631540204177\n"
     ]
    }
   ],
   "source": [
    "# 乱数生成\n",
    "X = np.random.rand(100, 1)  # 100個のランダムなデータポイントを生成\n",
    "y = 3 * X + np.random.randn(100, 1)  # ノイズを加えた線形関係\n",
    "\n",
    "# 回帰分析\n",
    "from sklearn.linear_model import LinearRegression\n",
    "\n",
    "model = LinearRegression()\n",
    "model.fit(X, y)\n",
    "\n",
    "# 結果出力\n",
    "print(\"回帰係数:\", model.coef_)\n",
    "print(\"切片:\", model.intercept_)\n",
    "print(\"決定係数 R^2:\", model.score(X, y))\n"
   ]
  },
  {
   "cell_type": "code",
   "execution_count": null,
   "metadata": {},
   "outputs": [],
   "source": []
  }
 ],
 "metadata": {
  "kernelspec": {
   "display_name": "Python 3",
   "language": "python",
   "name": "python3"
  },
  "language_info": {
   "codemirror_mode": {
    "name": "ipython",
    "version": 3
   },
   "file_extension": ".py",
   "mimetype": "text/x-python",
   "name": "python",
   "nbconvert_exporter": "python",
   "pygments_lexer": "ipython3",
   "version": "3.11.6"
  }
 },
 "nbformat": 4,
 "nbformat_minor": 2
}
